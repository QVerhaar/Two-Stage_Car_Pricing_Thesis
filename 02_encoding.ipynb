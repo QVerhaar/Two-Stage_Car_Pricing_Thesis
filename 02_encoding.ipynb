{
 "cells": [
  {
   "cell_type": "code",
   "execution_count": 2,
   "metadata": {},
   "outputs": [],
   "source": [
    "import pandas as pd\n",
    "import numpy as np\n",
    "import matplotlib.pyplot as plt\n",
    "import seaborn as sns"
   ]
  },
  {
   "cell_type": "code",
   "execution_count": 3,
   "metadata": {},
   "outputs": [],
   "source": [
    "file = \"01_Used_Cars_Cleaned.csv\"\n",
    "df = pd.read_csv(file)"
   ]
  },
  {
   "cell_type": "code",
   "execution_count": 4,
   "metadata": {},
   "outputs": [],
   "source": [
    "#Price - Target -> np.log1p\n",
    "#price_segment - Target -> Ordinal Encoding\n",
    "\n",
    "#Year - Drop\n",
    "#Condition - Drop\n",
    "#type - drop\n",
    "#paint_color - drop\n",
    "#type - drop\n",
    "#paint_color - drop\n",
    "#cylinders_clean - drop\n",
    "\n",
    "#Manufacturer - frequency encoding -> np.log1p\n",
    "#model - frequency encoding  -> np.log1p\n",
    "#state - frequency encoding -> np.log1p\n",
    "\n",
    "#odometer - np.log1p\n",
    "#car_age - np.log1p\n",
    "#miles_age - np.log1p\n",
    "\n",
    "#model - One-Hot Encoding\n",
    "#title_status - One-Hot Encoding\n",
    "#transmission - One-Hot Encoding\n",
    "#drive - One-Hot Encoding\n",
    "# #grouped_color - One-Hot Encoding\n",
    "#type_grouped - One-Hot Encoding\n",
    "#Fuel - One-Hot Encoding\n",
    "\n",
    "#condition_grouped - Ordinal Encoding\n",
    "#cylinders_cat - Ordinal Encoding"
   ]
  },
  {
   "cell_type": "code",
   "execution_count": 5,
   "metadata": {},
   "outputs": [],
   "source": [
    "#Delete Features\n",
    "not_used = ['year', 'condition', 'type', 'paint_color', 'region']\n",
    "df = df.drop(columns=not_used)"
   ]
  },
  {
   "cell_type": "code",
   "execution_count": 6,
   "metadata": {},
   "outputs": [],
   "source": [
    "#Frequency Encoding\n",
    "df['model_freq'] = df['model'].map(df['model'].value_counts())\n",
    "df['state_freq'] = df['state'].map(df['state'].value_counts())\n",
    "df['manufacturer_freq'] = df['manufacturer'].map(df['manufacturer'].value_counts())\n",
    "\n",
    "df['log_model_freq'] = np.log1p(df['model_freq'])\n",
    "df['log_state_freq'] = np.log1p(df['state_freq'])\n",
    "\n",
    "dropped = ['model', 'state','model_freq','state_freq']\n",
    "df = df.drop(columns=dropped)"
   ]
  },
  {
   "cell_type": "code",
   "execution_count": 7,
   "metadata": {},
   "outputs": [],
   "source": [
    "#Log Transform\n",
    "df['log_odometer'] = np.log1p(df['odometer'])\n",
    "df['log_car_age'] = np.log1p(df['car_age'])\n",
    "df['log_miles_age'] = np.log1p(df['miles_age'])\n",
    "\n",
    "drops = ['odometer', 'car_age', 'miles_age']\n",
    "df = df.drop(columns=drops)"
   ]
  },
  {
   "cell_type": "code",
   "execution_count": 8,
   "metadata": {},
   "outputs": [],
   "source": [
    "#Ordinal Encoding\n",
    "condition_map = {'salvage': 1, 'fair': 2, 'good': 3, 'excellent': 4}\n",
    "df['condition_grouped'] = df['condition_grouped'].map(condition_map)\n",
    "\n",
    "cylinders_map = {'low': 1, 'mid': 2, 'high': 3}\n",
    "df['cylinders_cat'] = df['cylinders_cat'].map(cylinders_map)"
   ]
  },
  {
   "cell_type": "code",
   "execution_count": 9,
   "metadata": {},
   "outputs": [],
   "source": [
    "#Manufacturer Ordinal Encoding based on Market Capitalization\n",
    "manufacturer_marketcap_map = {\n",
    "    \"toyota\": 1,\n",
    "    \"mercedes-benz\": 2,\n",
    "    \"volkswagen\": 3,\n",
    "    \"bmw\": 4,\n",
    "    \"porsche\": 5,\n",
    "    \"tesla\": 6,\n",
    "    \"honda\": 7,\n",
    "    \"ford\": 8,\n",
    "    \"volvo\": 9,\n",
    "    \"audi\": 10,\n",
    "    \"datsun\": 11,\n",
    "    \"mitsubishi\": 11,\n",
    "    \"nissan\": 11,\n",
    "    \"chevrolet\": 12,\n",
    "    \"hyundai\": 13,\n",
    "    \"lexus\": 14,\n",
    "    \"subaru\": 15,\n",
    "    \"land rover\": 16,\n",
    "    \"jeep\": 17,\n",
    "    \"kia\": 18,\n",
    "    \"buick\": 19,\n",
    "    \"cadillac\": 20,\n",
    "    \"mazda\": 21,\n",
    "    \"gmc\": 22,\n",
    "    \"ram\": 23,\n",
    "    \"mini\": 24,\n",
    "    \"jaguar\": 25,\n",
    "    \"fiat\": 26,\n",
    "    \"lincoln\": 27,\n",
    "    \"acura\": 28,\n",
    "    \"harley-davidson\": 29,\n",
    "    \"dodge\": 30,\n",
    "    \"infiniti\": 31,\n",
    "    \"chrysler\": 32,\n",
    "    \"alfa-romeo\": 33,\n",
    "    \"mercury\": 99,\n",
    "    \"pontiac\": 99,\n",
    "    \"saturn\": 99\n",
    "}\n",
    "\n",
    "df['manufacturer_marketcap'] = df['manufacturer'].map(manufacturer_marketcap_map)"
   ]
  },
  {
   "cell_type": "code",
   "execution_count": 10,
   "metadata": {},
   "outputs": [],
   "source": [
    "#Encoding Target Variables\n",
    "price_segment_map= {'low': 1, 'mid': 2, 'high': 3}\n",
    "df['price_segment'] = df['price_segment'].map(price_segment_map)\n",
    "\n",
    "df['log_price'] = np.log1p(df['price'])\n",
    "df = df.drop(columns='price')"
   ]
  },
  {
   "cell_type": "code",
   "execution_count": 11,
   "metadata": {},
   "outputs": [],
   "source": [
    "#Save Document\n",
    "df.to_csv(\"02_Used_Cars_Pipeline.csv\", index=False)"
   ]
  }
 ],
 "metadata": {
  "kernelspec": {
   "display_name": "Python 3",
   "language": "python",
   "name": "python3"
  },
  "language_info": {
   "codemirror_mode": {
    "name": "ipython",
    "version": 3
   },
   "file_extension": ".py",
   "mimetype": "text/x-python",
   "name": "python",
   "nbconvert_exporter": "python",
   "pygments_lexer": "ipython3",
   "version": "3.9.6"
  }
 },
 "nbformat": 4,
 "nbformat_minor": 2
}
