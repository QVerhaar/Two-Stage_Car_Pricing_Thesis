{
 "cells": [
  {
   "cell_type": "code",
   "execution_count": null,
   "metadata": {},
   "outputs": [],
   "source": []
  },
  {
   "cell_type": "code",
   "execution_count": 3,
   "metadata": {},
   "outputs": [],
   "source": [
    "import pandas as pd\n",
    "import numpy as np\n",
    "import matplotlib.pyplot as plt\n",
    "import seaborn as sns"
   ]
  },
  {
   "cell_type": "code",
   "execution_count": 4,
   "metadata": {},
   "outputs": [],
   "source": [
    "#Open File\n",
    "file = \"0_Used_Cars_Datasat.csv\"\n",
    "df = pd.read_csv(file)"
   ]
  },
  {
   "cell_type": "code",
   "execution_count": 5,
   "metadata": {},
   "outputs": [],
   "source": [
    "#Drop Irrelevant columns\n",
    "drop_irrelevant_cols = ['id','url','region_url', 'image_url', 'description','county','VIN','posting_date','lat','long' ]\n",
    "df = df.drop(columns=drop_irrelevant_cols)"
   ]
  },
  {
   "cell_type": "code",
   "execution_count": 6,
   "metadata": {},
   "outputs": [
    {
     "data": {
      "text/html": [
       "<div>\n",
       "<style scoped>\n",
       "    .dataframe tbody tr th:only-of-type {\n",
       "        vertical-align: middle;\n",
       "    }\n",
       "\n",
       "    .dataframe tbody tr th {\n",
       "        vertical-align: top;\n",
       "    }\n",
       "\n",
       "    .dataframe thead th {\n",
       "        text-align: right;\n",
       "    }\n",
       "</style>\n",
       "<table border=\"1\" class=\"dataframe\">\n",
       "  <thead>\n",
       "    <tr style=\"text-align: right;\">\n",
       "      <th></th>\n",
       "      <th>region</th>\n",
       "      <th>price</th>\n",
       "      <th>year</th>\n",
       "      <th>manufacturer</th>\n",
       "      <th>model</th>\n",
       "      <th>condition</th>\n",
       "      <th>cylinders</th>\n",
       "      <th>fuel</th>\n",
       "      <th>odometer</th>\n",
       "      <th>title_status</th>\n",
       "      <th>transmission</th>\n",
       "      <th>drive</th>\n",
       "      <th>size</th>\n",
       "      <th>type</th>\n",
       "      <th>paint_color</th>\n",
       "      <th>state</th>\n",
       "    </tr>\n",
       "  </thead>\n",
       "  <tbody>\n",
       "    <tr>\n",
       "      <th>0</th>\n",
       "      <td>prescott</td>\n",
       "      <td>6000</td>\n",
       "      <td>NaN</td>\n",
       "      <td>NaN</td>\n",
       "      <td>NaN</td>\n",
       "      <td>NaN</td>\n",
       "      <td>NaN</td>\n",
       "      <td>NaN</td>\n",
       "      <td>NaN</td>\n",
       "      <td>NaN</td>\n",
       "      <td>NaN</td>\n",
       "      <td>NaN</td>\n",
       "      <td>NaN</td>\n",
       "      <td>NaN</td>\n",
       "      <td>NaN</td>\n",
       "      <td>az</td>\n",
       "    </tr>\n",
       "    <tr>\n",
       "      <th>1</th>\n",
       "      <td>fayetteville</td>\n",
       "      <td>11900</td>\n",
       "      <td>NaN</td>\n",
       "      <td>NaN</td>\n",
       "      <td>NaN</td>\n",
       "      <td>NaN</td>\n",
       "      <td>NaN</td>\n",
       "      <td>NaN</td>\n",
       "      <td>NaN</td>\n",
       "      <td>NaN</td>\n",
       "      <td>NaN</td>\n",
       "      <td>NaN</td>\n",
       "      <td>NaN</td>\n",
       "      <td>NaN</td>\n",
       "      <td>NaN</td>\n",
       "      <td>ar</td>\n",
       "    </tr>\n",
       "    <tr>\n",
       "      <th>2</th>\n",
       "      <td>florida keys</td>\n",
       "      <td>21000</td>\n",
       "      <td>NaN</td>\n",
       "      <td>NaN</td>\n",
       "      <td>NaN</td>\n",
       "      <td>NaN</td>\n",
       "      <td>NaN</td>\n",
       "      <td>NaN</td>\n",
       "      <td>NaN</td>\n",
       "      <td>NaN</td>\n",
       "      <td>NaN</td>\n",
       "      <td>NaN</td>\n",
       "      <td>NaN</td>\n",
       "      <td>NaN</td>\n",
       "      <td>NaN</td>\n",
       "      <td>fl</td>\n",
       "    </tr>\n",
       "    <tr>\n",
       "      <th>3</th>\n",
       "      <td>worcester / central MA</td>\n",
       "      <td>1500</td>\n",
       "      <td>NaN</td>\n",
       "      <td>NaN</td>\n",
       "      <td>NaN</td>\n",
       "      <td>NaN</td>\n",
       "      <td>NaN</td>\n",
       "      <td>NaN</td>\n",
       "      <td>NaN</td>\n",
       "      <td>NaN</td>\n",
       "      <td>NaN</td>\n",
       "      <td>NaN</td>\n",
       "      <td>NaN</td>\n",
       "      <td>NaN</td>\n",
       "      <td>NaN</td>\n",
       "      <td>ma</td>\n",
       "    </tr>\n",
       "    <tr>\n",
       "      <th>4</th>\n",
       "      <td>greensboro</td>\n",
       "      <td>4900</td>\n",
       "      <td>NaN</td>\n",
       "      <td>NaN</td>\n",
       "      <td>NaN</td>\n",
       "      <td>NaN</td>\n",
       "      <td>NaN</td>\n",
       "      <td>NaN</td>\n",
       "      <td>NaN</td>\n",
       "      <td>NaN</td>\n",
       "      <td>NaN</td>\n",
       "      <td>NaN</td>\n",
       "      <td>NaN</td>\n",
       "      <td>NaN</td>\n",
       "      <td>NaN</td>\n",
       "      <td>nc</td>\n",
       "    </tr>\n",
       "  </tbody>\n",
       "</table>\n",
       "</div>"
      ],
      "text/plain": [
       "                   region  price  year manufacturer model condition cylinders  \\\n",
       "0                prescott   6000   NaN          NaN   NaN       NaN       NaN   \n",
       "1            fayetteville  11900   NaN          NaN   NaN       NaN       NaN   \n",
       "2            florida keys  21000   NaN          NaN   NaN       NaN       NaN   \n",
       "3  worcester / central MA   1500   NaN          NaN   NaN       NaN       NaN   \n",
       "4              greensboro   4900   NaN          NaN   NaN       NaN       NaN   \n",
       "\n",
       "  fuel  odometer title_status transmission drive size type paint_color state  \n",
       "0  NaN       NaN          NaN          NaN   NaN  NaN  NaN         NaN    az  \n",
       "1  NaN       NaN          NaN          NaN   NaN  NaN  NaN         NaN    ar  \n",
       "2  NaN       NaN          NaN          NaN   NaN  NaN  NaN         NaN    fl  \n",
       "3  NaN       NaN          NaN          NaN   NaN  NaN  NaN         NaN    ma  \n",
       "4  NaN       NaN          NaN          NaN   NaN  NaN  NaN         NaN    nc  "
      ]
     },
     "execution_count": 6,
     "metadata": {},
     "output_type": "execute_result"
    }
   ],
   "source": [
    "#Haead file\n",
    "df.head()"
   ]
  },
  {
   "cell_type": "markdown",
   "metadata": {},
   "source": [
    "Drop Numerical Outliers"
   ]
  },
  {
   "cell_type": "code",
   "execution_count": 7,
   "metadata": {},
   "outputs": [
    {
     "data": {
      "text/plain": [
       "<Axes: xlabel='price'>"
      ]
     },
     "execution_count": 7,
     "metadata": {},
     "output_type": "execute_result"
    },
    {
     "data": {
      "image/png": "[encoded data removed]",
      "text/plain": [
       "<Figure size 640x480 with 1 Axes>"
      ]
     },
     "metadata": {},
     "output_type": "display_data"
    }
   ],
   "source": [
    "#Price\n",
    "df['year'] = df['year'].astype('Int64')\n",
    "sns.boxplot(x=df['price'])"
   ]
  },
  {
   "cell_type": "code",
   "execution_count": 8,
   "metadata": {},
   "outputs": [
    {
     "data": {
      "text/plain": [
       "count    372979.000000\n",
       "mean      18625.091064\n",
       "std       12824.191606\n",
       "min        1100.000000\n",
       "25%        7950.000000\n",
       "50%       15900.000000\n",
       "75%       27500.000000\n",
       "max       59999.000000\n",
       "Name: price, dtype: float64"
      ]
     },
     "execution_count": 8,
     "metadata": {},
     "output_type": "execute_result"
    }
   ],
   "source": [
    "#Delete Prices outside of the 1100-59999 range\n",
    "df = df[df['price'].between(1100, 59999)]\n",
    "df['price'].describe()"
   ]
  },
  {
   "cell_type": "code",
   "execution_count": 15,
   "metadata": {},
   "outputs": [
    {
     "data": {
      "image/png": "[encoded data removed]",
      "text/plain": [
       "<Figure size 1600x800 with 1 Axes>"
      ]
     },
     "metadata": {},
     "output_type": "display_data"
    }
   ],
   "source": [
    "median_price = df['price'].median()\n",
    "mean_price = df['price'].mean()\n",
    "\n",
    "plt.figure(figsize=(16, 8))\n",
    "plt.hist(df['price'],bins=60)\n",
    "plt.title('Price Distribution')\n",
    "plt.xlabel('Price')\n",
    "plt.ylabel('Frequency')\n",
    "plt.axvline(median_price, color='g', linestyle='dashed', linewidth=2, label=f'Median: {median_price}')\n",
    "plt.axvline(mean_price, color='b', linestyle='dashed', linewidth=2, label=f'Mean: {mean_price}')\n",
    "plt.legend()\n",
    "plt.grid(True)\n",
    "plt.show()"
   ]
  },
  {
   "cell_type": "code",
   "execution_count": 10,
   "metadata": {},
   "outputs": [
    {
     "data": {
      "text/plain": [
       "<Axes: xlabel='odometer'>"
      ]
     },
     "execution_count": 10,
     "metadata": {},
     "output_type": "execute_result"
    },
    {
     "data": {
      "image/png": "[encoded data removed]",
      "text/plain": [
       "<Figure size 640x480 with 1 Axes>"
      ]
     },
     "metadata": {},
     "output_type": "display_data"
    }
   ],
   "source": [
    "#Odometer\n",
    "sns.boxplot(x=df['odometer'])"
   ]
  },
  {
   "cell_type": "code",
   "execution_count": 12,
   "metadata": {},
   "outputs": [],
   "source": [
    "#Delete mileage outside of the 10-300000 range\n",
    "df = df[df['odometer'].between(10, 300000)]"
   ]
  },
  {
   "cell_type": "code",
   "execution_count": 16,
   "metadata": {},
   "outputs": [
    {
     "data": {
      "image/png": "[encoded data removed]",
      "text/plain": [
       "<Figure size 1600x800 with 1 Axes>"
      ]
     },
     "metadata": {},
     "output_type": "display_data"
    }
   ],
   "source": [
    "median_price = df['odometer'].median()\n",
    "mean_price = df['odometer'].mean()\n",
    "plt.figure(figsize=(16, 8))\n",
    "plt.hist(df['odometer'],bins=60)\n",
    "plt.title('Odometer Distribution')\n",
    "plt.xlabel('Odometer')\n",
    "plt.ylabel('Frequency')\n",
    "plt.axvline(median_price, color='g', linestyle='dashed', linewidth=2, label=f'Median: {median_price}')\n",
    "plt.axvline(mean_price, color='b', linestyle='dashed', linewidth=2, label=f'Mean: {mean_price}')\n",
    "plt.legend()\n",
    "plt.grid(True)\n",
    "plt.show()"
   ]
  },
  {
   "cell_type": "code",
   "execution_count": 14,
   "metadata": {},
   "outputs": [
    {
     "data": {
      "text/plain": [
       "count       364679.0\n",
       "mean     2011.068213\n",
       "std         9.252417\n",
       "min           1900.0\n",
       "25%           2008.0\n",
       "50%           2013.0\n",
       "75%           2017.0\n",
       "max           2022.0\n",
       "Name: year, dtype: Float64"
      ]
     },
     "execution_count": 14,
     "metadata": {},
     "output_type": "execute_result"
    }
   ],
   "source": [
    "#Year \n",
    "df['year'].describe()"
   ]
  },
  {
   "cell_type": "code",
   "execution_count": 18,
   "metadata": {},
   "outputs": [],
   "source": [
    "#Delete years outside of the 1980-2021 range\n",
    "df = df[df['year'].between(1980, 2021)]"
   ]
  },
  {
   "cell_type": "code",
   "execution_count": 19,
   "metadata": {},
   "outputs": [
    {
     "data": {
      "image/png": "[encoded data removed]",
      "text/plain": [
       "<Figure size 1600x800 with 1 Axes>"
      ]
     },
     "metadata": {},
     "output_type": "display_data"
    }
   ],
   "source": [
    "median_price = df['year'].median()\n",
    "mean_price = df['year'].mean()\n",
    "plt.figure(figsize=(16, 8))\n",
    "plt.hist(df['year'],bins=40)\n",
    "plt.title('Year Distribution')\n",
    "plt.xlabel('Year')\n",
    "plt.ylabel('Frequency')\n",
    "plt.axvline(median_price, color='g', linestyle='dashed', linewidth=2, label=f'Median: {median_price}')\n",
    "plt.axvline(mean_price, color='b', linestyle='dashed', linewidth=2, label=f'Mean: {mean_price}')\n",
    "plt.legend()\n",
    "plt.grid(True)\n",
    "plt.show()"
   ]
  },
  {
   "cell_type": "code",
   "execution_count": 20,
   "metadata": {},
   "outputs": [
    {
     "data": {
      "text/plain": [
       "count       357746.0\n",
       "mean     2011.979346\n",
       "std         6.324019\n",
       "min           1980.0\n",
       "25%           2008.0\n",
       "50%           2013.0\n",
       "75%           2017.0\n",
       "max           2021.0\n",
       "Name: year, dtype: Float64"
      ]
     },
     "execution_count": 20,
     "metadata": {},
     "output_type": "execute_result"
    }
   ],
   "source": [
    "df['year'].describe()"
   ]
  },
  {
   "cell_type": "code",
   "execution_count": 22,
   "metadata": {},
   "outputs": [
    {
     "data": {
      "text/html": [
       "<div>\n",
       "<style scoped>\n",
       "    .dataframe tbody tr th:only-of-type {\n",
       "        vertical-align: middle;\n",
       "    }\n",
       "\n",
       "    .dataframe tbody tr th {\n",
       "        vertical-align: top;\n",
       "    }\n",
       "\n",
       "    .dataframe thead th {\n",
       "        text-align: right;\n",
       "    }\n",
       "</style>\n",
       "<table border=\"1\" class=\"dataframe\">\n",
       "  <thead>\n",
       "    <tr style=\"text-align: right;\">\n",
       "      <th></th>\n",
       "      <th>null</th>\n",
       "      <th>percent</th>\n",
       "    </tr>\n",
       "  </thead>\n",
       "  <tbody>\n",
       "    <tr>\n",
       "      <th>size</th>\n",
       "      <td>256907</td>\n",
       "      <td>71.813</td>\n",
       "    </tr>\n",
       "    <tr>\n",
       "      <th>cylinders</th>\n",
       "      <td>145746</td>\n",
       "      <td>40.740</td>\n",
       "    </tr>\n",
       "    <tr>\n",
       "      <th>condition</th>\n",
       "      <td>132720</td>\n",
       "      <td>37.099</td>\n",
       "    </tr>\n",
       "    <tr>\n",
       "      <th>drive</th>\n",
       "      <td>107421</td>\n",
       "      <td>30.027</td>\n",
       "    </tr>\n",
       "    <tr>\n",
       "      <th>paint_color</th>\n",
       "      <td>100393</td>\n",
       "      <td>28.063</td>\n",
       "    </tr>\n",
       "    <tr>\n",
       "      <th>type</th>\n",
       "      <td>73636</td>\n",
       "      <td>20.583</td>\n",
       "    </tr>\n",
       "    <tr>\n",
       "      <th>manufacturer</th>\n",
       "      <td>10848</td>\n",
       "      <td>3.032</td>\n",
       "    </tr>\n",
       "    <tr>\n",
       "      <th>title_status</th>\n",
       "      <td>5688</td>\n",
       "      <td>1.590</td>\n",
       "    </tr>\n",
       "    <tr>\n",
       "      <th>model</th>\n",
       "      <td>3240</td>\n",
       "      <td>0.906</td>\n",
       "    </tr>\n",
       "    <tr>\n",
       "      <th>fuel</th>\n",
       "      <td>2046</td>\n",
       "      <td>0.572</td>\n",
       "    </tr>\n",
       "    <tr>\n",
       "      <th>transmission</th>\n",
       "      <td>1407</td>\n",
       "      <td>0.393</td>\n",
       "    </tr>\n",
       "    <tr>\n",
       "      <th>region</th>\n",
       "      <td>0</td>\n",
       "      <td>0.000</td>\n",
       "    </tr>\n",
       "    <tr>\n",
       "      <th>price</th>\n",
       "      <td>0</td>\n",
       "      <td>0.000</td>\n",
       "    </tr>\n",
       "    <tr>\n",
       "      <th>year</th>\n",
       "      <td>0</td>\n",
       "      <td>0.000</td>\n",
       "    </tr>\n",
       "    <tr>\n",
       "      <th>odometer</th>\n",
       "      <td>0</td>\n",
       "      <td>0.000</td>\n",
       "    </tr>\n",
       "    <tr>\n",
       "      <th>state</th>\n",
       "      <td>0</td>\n",
       "      <td>0.000</td>\n",
       "    </tr>\n",
       "  </tbody>\n",
       "</table>\n",
       "</div>"
      ],
      "text/plain": [
       "                null  percent\n",
       "size          256907   71.813\n",
       "cylinders     145746   40.740\n",
       "condition     132720   37.099\n",
       "drive         107421   30.027\n",
       "paint_color   100393   28.063\n",
       "type           73636   20.583\n",
       "manufacturer   10848    3.032\n",
       "title_status    5688    1.590\n",
       "model           3240    0.906\n",
       "fuel            2046    0.572\n",
       "transmission    1407    0.393\n",
       "region             0    0.000\n",
       "price              0    0.000\n",
       "year               0    0.000\n",
       "odometer           0    0.000\n",
       "state              0    0.000"
      ]
     },
     "execution_count": 22,
     "metadata": {},
     "output_type": "execute_result"
    }
   ],
   "source": [
    "#Percentage of Missing Data\n",
    "null_values=df.isnull().sum()\n",
    "null_values=pd.DataFrame(null_values,columns=['null'])\n",
    "j=1\n",
    "sum_tot=len(df)\n",
    "null_values['percent']=null_values['null']/sum_tot*100\n",
    "round(null_values,3).sort_values('percent',ascending=False)"
   ]
  },
  {
   "cell_type": "markdown",
   "metadata": {},
   "source": [
    "Cleaning The Model Variable"
   ]
  },
  {
   "cell_type": "code",
   "execution_count": 23,
   "metadata": {},
   "outputs": [
    {
     "name": "stdout",
     "output_type": "stream",
     "text": [
      "279\n"
     ]
    }
   ],
   "source": [
    "#Unique amount of models more than 200 times in the data \n",
    "count_types_more_than_one = df['model'].value_counts()[df['model'].value_counts() > 200].count()\n",
    "print(count_types_more_than_one)"
   ]
  },
  {
   "cell_type": "code",
   "execution_count": 24,
   "metadata": {},
   "outputs": [
    {
     "name": "stdout",
     "output_type": "stream",
     "text": [
      "Amount after deletion rows: 309854\n",
      "Deleted rows: 47892\n"
     ]
    }
   ],
   "source": [
    "#value count\n",
    "model_counts = df['model'].value_counts()\n",
    "\n",
    "#Subset data more than 10 values\n",
    "df_filtered = df[df['model'].isin(model_counts[model_counts > 10].index)]\n",
    "print(f'Amount after deletion rows: {df_filtered.shape[0]}')\n",
    "print(f'Deleted rows: {df.shape[0] - df_filtered.shape[0]}')"
   ]
  },
  {
   "cell_type": "code",
   "execution_count": 282,
   "metadata": {},
   "outputs": [],
   "source": [
    "#Mapping Lists to clean models\n",
    "model_freq = (\n",
    "    df.groupby(['model', 'manufacturer'])\n",
    "    .size()\n",
    "    .reset_index(name='count'))\n",
    "\n",
    "#Download more than 10 times in the data\n",
    "models_10 = model_freq[model_freq['count'] >= 10]\n",
    "models_10.to_csv('model_freq_over_10.csv', index=False)\n",
    "\n",
    "#Download more than 200 times in the data\n",
    "models_200 = model_freq[model_freq['count'] >= 200]\n",
    "models_200.to_csv('model_freq_over_200.csv', index=False)\n"
   ]
  },
  {
   "cell_type": "markdown",
   "metadata": {},
   "source": [
    "Andere document samenvoegen (Voor nu komt hier dus \"Model Cleaned > 10.csv\" uit)"
   ]
  },
  {
   "cell_type": "code",
   "execution_count": 25,
   "metadata": {},
   "outputs": [],
   "source": [
    "#Lowering Model Feature\n",
    "df['model'] = df['model'].str.lower()\n",
    "df['manufacturer'] = df['manufacturer'].str.lower()"
   ]
  },
  {
   "cell_type": "code",
   "execution_count": 27,
   "metadata": {},
   "outputs": [],
   "source": [
    "#Adding Cleaned document for every model with more than 10 times the same value \n",
    "model_clean_df = pd.read_csv(\"Model Cleaned > 10.csv\",delimiter=\";\")\n",
    "df_merged = df.merge(model_clean_df, on=['model','manufacturer'], how='left')"
   ]
  },
  {
   "cell_type": "code",
   "execution_count": 28,
   "metadata": {},
   "outputs": [],
   "source": [
    "#Drop unclear models + Drop all features to clean models + Turn model_clean2 -> model\n",
    "df = df_merged.dropna(subset=['model_clean2'])\n",
    "df = df.drop(columns=['model_first3','model_first','model','count'])\n",
    "df['model'] = df['model_clean2']\n",
    "df = df.drop(columns=['model_clean2'])"
   ]
  },
  {
   "cell_type": "code",
   "execution_count": 29,
   "metadata": {},
   "outputs": [
    {
     "data": {
      "text/html": [
       "<div>\n",
       "<style scoped>\n",
       "    .dataframe tbody tr th:only-of-type {\n",
       "        vertical-align: middle;\n",
       "    }\n",
       "\n",
       "    .dataframe tbody tr th {\n",
       "        vertical-align: top;\n",
       "    }\n",
       "\n",
       "    .dataframe thead th {\n",
       "        text-align: right;\n",
       "    }\n",
       "</style>\n",
       "<table border=\"1\" class=\"dataframe\">\n",
       "  <thead>\n",
       "    <tr style=\"text-align: right;\">\n",
       "      <th></th>\n",
       "      <th>null</th>\n",
       "      <th>percent</th>\n",
       "    </tr>\n",
       "  </thead>\n",
       "  <tbody>\n",
       "    <tr>\n",
       "      <th>size</th>\n",
       "      <td>221981</td>\n",
       "      <td>72.450</td>\n",
       "    </tr>\n",
       "    <tr>\n",
       "      <th>cylinders</th>\n",
       "      <td>127619</td>\n",
       "      <td>41.652</td>\n",
       "    </tr>\n",
       "    <tr>\n",
       "      <th>condition</th>\n",
       "      <td>115668</td>\n",
       "      <td>37.752</td>\n",
       "    </tr>\n",
       "    <tr>\n",
       "      <th>drive</th>\n",
       "      <td>92552</td>\n",
       "      <td>30.207</td>\n",
       "    </tr>\n",
       "    <tr>\n",
       "      <th>paint_color</th>\n",
       "      <td>84627</td>\n",
       "      <td>27.620</td>\n",
       "    </tr>\n",
       "    <tr>\n",
       "      <th>type</th>\n",
       "      <td>61807</td>\n",
       "      <td>20.173</td>\n",
       "    </tr>\n",
       "    <tr>\n",
       "      <th>title_status</th>\n",
       "      <td>3161</td>\n",
       "      <td>1.032</td>\n",
       "    </tr>\n",
       "    <tr>\n",
       "      <th>transmission</th>\n",
       "      <td>1291</td>\n",
       "      <td>0.421</td>\n",
       "    </tr>\n",
       "    <tr>\n",
       "      <th>fuel</th>\n",
       "      <td>664</td>\n",
       "      <td>0.217</td>\n",
       "    </tr>\n",
       "    <tr>\n",
       "      <th>region</th>\n",
       "      <td>0</td>\n",
       "      <td>0.000</td>\n",
       "    </tr>\n",
       "    <tr>\n",
       "      <th>price</th>\n",
       "      <td>0</td>\n",
       "      <td>0.000</td>\n",
       "    </tr>\n",
       "    <tr>\n",
       "      <th>year</th>\n",
       "      <td>0</td>\n",
       "      <td>0.000</td>\n",
       "    </tr>\n",
       "    <tr>\n",
       "      <th>manufacturer</th>\n",
       "      <td>0</td>\n",
       "      <td>0.000</td>\n",
       "    </tr>\n",
       "    <tr>\n",
       "      <th>odometer</th>\n",
       "      <td>0</td>\n",
       "      <td>0.000</td>\n",
       "    </tr>\n",
       "    <tr>\n",
       "      <th>state</th>\n",
       "      <td>0</td>\n",
       "      <td>0.000</td>\n",
       "    </tr>\n",
       "    <tr>\n",
       "      <th>model</th>\n",
       "      <td>0</td>\n",
       "      <td>0.000</td>\n",
       "    </tr>\n",
       "  </tbody>\n",
       "</table>\n",
       "</div>"
      ],
      "text/plain": [
       "                null  percent\n",
       "size          221981   72.450\n",
       "cylinders     127619   41.652\n",
       "condition     115668   37.752\n",
       "drive          92552   30.207\n",
       "paint_color    84627   27.620\n",
       "type           61807   20.173\n",
       "title_status    3161    1.032\n",
       "transmission    1291    0.421\n",
       "fuel             664    0.217\n",
       "region             0    0.000\n",
       "price              0    0.000\n",
       "year               0    0.000\n",
       "manufacturer       0    0.000\n",
       "odometer           0    0.000\n",
       "state              0    0.000\n",
       "model              0    0.000"
      ]
     },
     "execution_count": 29,
     "metadata": {},
     "output_type": "execute_result"
    }
   ],
   "source": [
    "null_values=df.isnull().sum()\n",
    "null_values=pd.DataFrame(null_values,columns=['null'])\n",
    "j=1\n",
    "sum_tot=len(df)\n",
    "null_values['percent']=null_values['null']/sum_tot*100\n",
    "round(null_values,3).sort_values('percent',ascending=False)"
   ]
  },
  {
   "cell_type": "markdown",
   "metadata": {},
   "source": [
    "Missing Data Imputation"
   ]
  },
  {
   "cell_type": "code",
   "execution_count": 34,
   "metadata": {},
   "outputs": [],
   "source": [
    "#Drop size\n",
    "df.drop(\"size\", axis=1, inplace=True)"
   ]
  },
  {
   "cell_type": "code",
   "execution_count": 35,
   "metadata": {},
   "outputs": [],
   "source": [
    "#Drop NA values Fuel\n",
    "df = df[df['fuel'].notna()]"
   ]
  },
  {
   "cell_type": "code",
   "execution_count": 30,
   "metadata": {},
   "outputs": [],
   "source": [
    "df = df[df['transmission'].notna()]"
   ]
  },
  {
   "cell_type": "code",
   "execution_count": 31,
   "metadata": {},
   "outputs": [],
   "source": [
    "#Title status\n",
    "\n",
    "#Combining Categories\n",
    "df['title_status'] =df['title_status'].replace({\n",
    "    'rebuilt': 'damaged',\n",
    "    'salvage': 'damaged',\n",
    "    'lien': 'other',\n",
    "    'missing': 'other',\n",
    "    'parts only':'damaged'\n",
    "})\n",
    "\n",
    "#Fill NA Values with other\n",
    "df['title_status'] = df['title_status'].fillna('other')"
   ]
  },
  {
   "cell_type": "code",
   "execution_count": 39,
   "metadata": {},
   "outputs": [],
   "source": [
    "#Paint Color\n",
    "df['paint_color'] = df['paint_color'].fillna('unknown')\n",
    "\n",
    "#Reclassifying all colors into three groups (Unkown, Neutral, Colorful)\n",
    "def group_color(color):\n",
    "    if color in ['unknown']:\n",
    "        return 'unkown'\n",
    "    elif color in ['white', 'black', 'silver','grey','brown']:\n",
    "        return 'neutral'\n",
    "    elif color in ['blue', 'red', 'custom','green','orange','yellow','purple']:\n",
    "        return 'colorful'\n",
    "    else:\n",
    "        return 'unkown'\n",
    "\n",
    "df['grouped_color'] = df['paint_color'].apply(group_color)"
   ]
  },
  {
   "cell_type": "code",
   "execution_count": 41,
   "metadata": {},
   "outputs": [],
   "source": [
    "#Drive\n",
    "#Mapping List for NA Drive values based on manufacturer, model and year \n",
    "drive_lookup = (\n",
    "    df[~df['drive'].isnull()]\n",
    "    .groupby(['manufacturer', 'model','year'])['drive']\n",
    "    .agg(lambda x: x.mode().iloc[0] if not x.mode().empty else np.nan)\n",
    "    .to_dict()\n",
    ")\n",
    "\n",
    "def fill_drive_from_model_year(row):\n",
    "    if pd.isna(row['drive']):\n",
    "        return drive_lookup.get((row['manufacturer'], row['model']), np.nan)\n",
    "    else:\n",
    "        return row['drive']\n",
    "    \n",
    "df['drive'] = df.apply(fill_drive_from_model_year, axis=1)\n",
    "\n",
    "#If not filled in Mapping List for NA Drive values based on manufacturer and model \n",
    "drive_lookup = (\n",
    "    df[~df['drive'].isnull()]\n",
    "    .groupby(['manufacturer', 'model'])['drive']\n",
    "    .agg(lambda x: x.mode().iloc[0] if not x.mode().empty else np.nan)\n",
    "    .to_dict()\n",
    ")\n",
    "\n",
    "def fill_drive_from_model_year(row):\n",
    "    if pd.isna(row['drive']):\n",
    "        return drive_lookup.get((row['manufacturer'], row['model']), np.nan)\n",
    "    else:\n",
    "        return row['drive']\n",
    "    \n",
    "df['drive'] = df.apply(fill_drive_from_model_year, axis=1)\n",
    "\n",
    "#Drop all NA values left (791)\n",
    "df = df.dropna(subset=['drive'])"
   ]
  },
  {
   "cell_type": "markdown",
   "metadata": {},
   "source": [
    "NA Toevoegen Manufacturers op basis van zelfde modellen.  "
   ]
  },
  {
   "cell_type": "code",
   "execution_count": 45,
   "metadata": {},
   "outputs": [],
   "source": [
    "#Manufacturer\n",
    "\n",
    "#Combine Land rover and rover\n",
    "df.loc[:, 'manufacturer'] = df['manufacturer'].replace({'rover': 'land rover'})"
   ]
  },
  {
   "cell_type": "code",
   "execution_count": 47,
   "metadata": {},
   "outputs": [],
   "source": [
    "#Type\n",
    "\n",
    "#Combine truck and pickup\n",
    "df.loc[:, 'type'] = df['type'].replace({'truck': 'pickup'})\n",
    "df = df.copy()\n",
    "\n",
    "#Mapping List for NA Type values based on model max values models\n",
    "model_to_type = df[df['type'].notna() & df['model'].notna()]\\\n",
    "    .groupby('model')['type']\\\n",
    "    .agg(lambda x: x.value_counts().idxmax())\\\n",
    "    .to_dict()\n",
    "\n"
   ]
  },
  {
   "cell_type": "code",
   "execution_count": 48,
   "metadata": {},
   "outputs": [],
   "source": [
    "#Mapping List for NA type values based on model \n",
    "\n",
    "model_to_type = df[df['type'].notna() & df['model'].notna()]\\\n",
    "    .groupby('model')['type']\\\n",
    "    .agg(lambda x: x.value_counts().idxmax())\\\n",
    "    .to_dict()\n",
    "\n",
    "def fill_type(row):\n",
    "    if pd.isna(row['type']) and row['model'] in model_to_type:\n",
    "        return model_to_type[row['model']]\n",
    "    else:\n",
    "        return row['type']\n",
    "\n",
    "df['type'] = df.apply(fill_type, axis=1)"
   ]
  },
  {
   "cell_type": "code",
   "execution_count": 50,
   "metadata": {},
   "outputs": [],
   "source": [
    "#Group Type into 4 categories\n",
    "def group_type(type_value):\n",
    "    if type_value in ['sedan', 'hatchback','wagon','coupe','convertible']:\n",
    "        return 'compact'\n",
    "    elif type_value in ['SUV', 'van', 'mini-van']:\n",
    "        return 'big'\n",
    "    elif type_value in ['pickup', 'bus', 'offroad']:\n",
    "        return 'work'\n",
    "    else:\n",
    "        return 'other'\n",
    "\n",
    "df['type_grouped'] = df['type'].apply(group_type)"
   ]
  },
  {
   "cell_type": "code",
   "execution_count": 51,
   "metadata": {},
   "outputs": [],
   "source": [
    "#Conditions\n",
    "\n",
    "#Group Conditions into 4 categories\n",
    "def group_condition(cond):\n",
    "    if pd.isna(cond):\n",
    "        return np.nan  \n",
    "    elif cond in ['new', 'excellent']:\n",
    "        return 'excellent'\n",
    "    elif cond in ['good', 'like new']:\n",
    "        return 'good'\n",
    "    else:\n",
    "        return cond \n",
    "\n",
    "df['condition_grouped'] = df['condition'].apply(group_condition)"
   ]
  },
  {
   "cell_type": "code",
   "execution_count": 53,
   "metadata": {},
   "outputs": [],
   "source": [
    "#Mapping List for NA Conditions Grouped values based on manufacturer and year \n",
    "condition_lookup = (\n",
    "    df[~df['condition_grouped'].isnull()]\n",
    "    .groupby(['manufacturer', 'year'])['condition_grouped']\n",
    "    .agg(lambda x: x.mode().iloc[0] if not x.mode().empty else np.nan)\n",
    "    .to_dict())\n",
    "def fill_condition_from_model_year(row):\n",
    "    if pd.isna(row['condition_grouped']):\n",
    "        return condition_lookup.get((row['manufacturer'], row['year']), np.nan)\n",
    "    else:\n",
    "        return row['condition_grouped']\n",
    "    \n",
    "df['condition_grouped'] = df.apply(fill_condition_from_model_year, axis=1)\n",
    "df = df[df['condition_grouped'].notna()]\n",
    "df['condition'] = df['condition'].fillna('unknown')"
   ]
  },
  {
   "cell_type": "code",
   "execution_count": 60,
   "metadata": {},
   "outputs": [],
   "source": [
    "#Cylinders \n",
    "\n",
    "#Clean Cylinder values\n",
    "def extract_cylinders(val):\n",
    "    if pd.isna(val) or val == 'other':\n",
    "        return np.nan\n",
    "    try:\n",
    "        return int(val.split()[0])\n",
    "    except:\n",
    "        return np.nan\n",
    "    \n",
    "df[\"cylinders_clean\"] = df['cylinders'].apply(extract_cylinders)\n",
    "\n",
    "#Categorize Cylinders\n",
    "def categorize_cylinders(n):\n",
    "    if pd.isna(n):\n",
    "        return np.nan\n",
    "    elif n <= 4:\n",
    "        return 'low' \n",
    "    elif n <= 6:\n",
    "        return 'mid' \n",
    "    else:\n",
    "        return 'high'\n",
    "\n",
    "df['cylinders_cat'] = df['cylinders_clean'].apply(categorize_cylinders)\n",
    "\n",
    "#Mapping List for NA Cylinders Cat values based on Model and Type \n",
    "cyl_cat_lookup = (\n",
    "    df[~df['cylinders_cat'].isnull()]  \n",
    "    .groupby(['model', 'type'])['cylinders_cat']  \n",
    "    .agg(lambda x: x.mode().iloc[0] if not x.mode().empty else np.nan)  \n",
    "    .to_dict()\n",
    ")\n",
    "#Fill in Cylinder categories\n",
    "def fill_cyl_cat(row):\n",
    "    if pd.isna(row['cylinders_cat']):\n",
    "        return cyl_cat_lookup.get((row['model'], row['type']), np.nan)\n",
    "    else:\n",
    "        return row['cylinders_cat']\n",
    "\n",
    "df['cylinders_cat'] = df.apply(fill_cyl_cat, axis=1)\n",
    "df = df[df['cylinders_cat'].notna()]\n",
    "df.drop(columns=['cylinders','cylinders_clean'], inplace=True)"
   ]
  },
  {
   "cell_type": "code",
   "execution_count": 65,
   "metadata": {},
   "outputs": [
    {
     "data": {
      "text/html": [
       "<div>\n",
       "<style scoped>\n",
       "    .dataframe tbody tr th:only-of-type {\n",
       "        vertical-align: middle;\n",
       "    }\n",
       "\n",
       "    .dataframe tbody tr th {\n",
       "        vertical-align: top;\n",
       "    }\n",
       "\n",
       "    .dataframe thead th {\n",
       "        text-align: right;\n",
       "    }\n",
       "</style>\n",
       "<table border=\"1\" class=\"dataframe\">\n",
       "  <thead>\n",
       "    <tr style=\"text-align: right;\">\n",
       "      <th></th>\n",
       "      <th>null</th>\n",
       "      <th>percent</th>\n",
       "    </tr>\n",
       "  </thead>\n",
       "  <tbody>\n",
       "    <tr>\n",
       "      <th>region</th>\n",
       "      <td>0</td>\n",
       "      <td>0.0</td>\n",
       "    </tr>\n",
       "    <tr>\n",
       "      <th>price</th>\n",
       "      <td>0</td>\n",
       "      <td>0.0</td>\n",
       "    </tr>\n",
       "    <tr>\n",
       "      <th>condition_grouped</th>\n",
       "      <td>0</td>\n",
       "      <td>0.0</td>\n",
       "    </tr>\n",
       "    <tr>\n",
       "      <th>type_grouped</th>\n",
       "      <td>0</td>\n",
       "      <td>0.0</td>\n",
       "    </tr>\n",
       "    <tr>\n",
       "      <th>grouped_color</th>\n",
       "      <td>0</td>\n",
       "      <td>0.0</td>\n",
       "    </tr>\n",
       "    <tr>\n",
       "      <th>model</th>\n",
       "      <td>0</td>\n",
       "      <td>0.0</td>\n",
       "    </tr>\n",
       "    <tr>\n",
       "      <th>state</th>\n",
       "      <td>0</td>\n",
       "      <td>0.0</td>\n",
       "    </tr>\n",
       "    <tr>\n",
       "      <th>paint_color</th>\n",
       "      <td>0</td>\n",
       "      <td>0.0</td>\n",
       "    </tr>\n",
       "    <tr>\n",
       "      <th>type</th>\n",
       "      <td>0</td>\n",
       "      <td>0.0</td>\n",
       "    </tr>\n",
       "    <tr>\n",
       "      <th>drive</th>\n",
       "      <td>0</td>\n",
       "      <td>0.0</td>\n",
       "    </tr>\n",
       "    <tr>\n",
       "      <th>transmission</th>\n",
       "      <td>0</td>\n",
       "      <td>0.0</td>\n",
       "    </tr>\n",
       "    <tr>\n",
       "      <th>title_status</th>\n",
       "      <td>0</td>\n",
       "      <td>0.0</td>\n",
       "    </tr>\n",
       "    <tr>\n",
       "      <th>odometer</th>\n",
       "      <td>0</td>\n",
       "      <td>0.0</td>\n",
       "    </tr>\n",
       "    <tr>\n",
       "      <th>fuel</th>\n",
       "      <td>0</td>\n",
       "      <td>0.0</td>\n",
       "    </tr>\n",
       "    <tr>\n",
       "      <th>condition</th>\n",
       "      <td>0</td>\n",
       "      <td>0.0</td>\n",
       "    </tr>\n",
       "    <tr>\n",
       "      <th>manufacturer</th>\n",
       "      <td>0</td>\n",
       "      <td>0.0</td>\n",
       "    </tr>\n",
       "    <tr>\n",
       "      <th>year</th>\n",
       "      <td>0</td>\n",
       "      <td>0.0</td>\n",
       "    </tr>\n",
       "    <tr>\n",
       "      <th>cylinders_cat</th>\n",
       "      <td>0</td>\n",
       "      <td>0.0</td>\n",
       "    </tr>\n",
       "  </tbody>\n",
       "</table>\n",
       "</div>"
      ],
      "text/plain": [
       "                   null  percent\n",
       "region                0      0.0\n",
       "price                 0      0.0\n",
       "condition_grouped     0      0.0\n",
       "type_grouped          0      0.0\n",
       "grouped_color         0      0.0\n",
       "model                 0      0.0\n",
       "state                 0      0.0\n",
       "paint_color           0      0.0\n",
       "type                  0      0.0\n",
       "drive                 0      0.0\n",
       "transmission          0      0.0\n",
       "title_status          0      0.0\n",
       "odometer              0      0.0\n",
       "fuel                  0      0.0\n",
       "condition             0      0.0\n",
       "manufacturer          0      0.0\n",
       "year                  0      0.0\n",
       "cylinders_cat         0      0.0"
      ]
     },
     "execution_count": 65,
     "metadata": {},
     "output_type": "execute_result"
    }
   ],
   "source": [
    "#Check NA Values after imputation\n",
    "null_values=df.isnull().sum()\n",
    "null_values=pd.DataFrame(null_values,columns=['null'])\n",
    "j=1\n",
    "sum_tot=len(df)\n",
    "null_values['percent']=null_values['null']/sum_tot*100\n",
    "round(null_values,3).sort_values('percent',ascending=False)"
   ]
  },
  {
   "cell_type": "code",
   "execution_count": 68,
   "metadata": {},
   "outputs": [],
   "source": [
    "#Create Car Age Variable\n",
    "df['car_age'] = 2022 - df['year']\n",
    "df['car_age'] = df['car_age'].astype(float)\n"
   ]
  },
  {
   "cell_type": "code",
   "execution_count": 69,
   "metadata": {},
   "outputs": [],
   "source": [
    "#Create Mileage per Year\n",
    "df['miles_age'] = (df['odometer'] / df['car_age']).round(2)"
   ]
  },
  {
   "cell_type": "code",
   "execution_count": 70,
   "metadata": {},
   "outputs": [
    {
     "data": {
      "text/html": [
       "<div>\n",
       "<style scoped>\n",
       "    .dataframe tbody tr th:only-of-type {\n",
       "        vertical-align: middle;\n",
       "    }\n",
       "\n",
       "    .dataframe tbody tr th {\n",
       "        vertical-align: top;\n",
       "    }\n",
       "\n",
       "    .dataframe thead th {\n",
       "        text-align: right;\n",
       "    }\n",
       "</style>\n",
       "<table border=\"1\" class=\"dataframe\">\n",
       "  <thead>\n",
       "    <tr style=\"text-align: right;\">\n",
       "      <th></th>\n",
       "      <th>region</th>\n",
       "      <th>price</th>\n",
       "      <th>year</th>\n",
       "      <th>manufacturer</th>\n",
       "      <th>condition</th>\n",
       "      <th>fuel</th>\n",
       "      <th>odometer</th>\n",
       "      <th>title_status</th>\n",
       "      <th>transmission</th>\n",
       "      <th>drive</th>\n",
       "      <th>type</th>\n",
       "      <th>paint_color</th>\n",
       "      <th>state</th>\n",
       "      <th>model</th>\n",
       "      <th>grouped_color</th>\n",
       "      <th>type_grouped</th>\n",
       "      <th>condition_grouped</th>\n",
       "      <th>cylinders_cat</th>\n",
       "      <th>car_age</th>\n",
       "      <th>miles_age</th>\n",
       "    </tr>\n",
       "  </thead>\n",
       "  <tbody>\n",
       "    <tr>\n",
       "      <th>0</th>\n",
       "      <td>auburn</td>\n",
       "      <td>33590</td>\n",
       "      <td>2014</td>\n",
       "      <td>gmc</td>\n",
       "      <td>good</td>\n",
       "      <td>gas</td>\n",
       "      <td>57923.0</td>\n",
       "      <td>clean</td>\n",
       "      <td>other</td>\n",
       "      <td>4wd</td>\n",
       "      <td>pickup</td>\n",
       "      <td>white</td>\n",
       "      <td>al</td>\n",
       "      <td>sierra 1500</td>\n",
       "      <td>neutral</td>\n",
       "      <td>work</td>\n",
       "      <td>good</td>\n",
       "      <td>high</td>\n",
       "      <td>8.0</td>\n",
       "      <td>7240.38</td>\n",
       "    </tr>\n",
       "    <tr>\n",
       "      <th>1</th>\n",
       "      <td>auburn</td>\n",
       "      <td>22590</td>\n",
       "      <td>2010</td>\n",
       "      <td>chevrolet</td>\n",
       "      <td>good</td>\n",
       "      <td>gas</td>\n",
       "      <td>71229.0</td>\n",
       "      <td>clean</td>\n",
       "      <td>other</td>\n",
       "      <td>4wd</td>\n",
       "      <td>pickup</td>\n",
       "      <td>blue</td>\n",
       "      <td>al</td>\n",
       "      <td>silverado 1500</td>\n",
       "      <td>colorful</td>\n",
       "      <td>work</td>\n",
       "      <td>good</td>\n",
       "      <td>high</td>\n",
       "      <td>12.0</td>\n",
       "      <td>5935.75</td>\n",
       "    </tr>\n",
       "    <tr>\n",
       "      <th>2</th>\n",
       "      <td>auburn</td>\n",
       "      <td>39590</td>\n",
       "      <td>2020</td>\n",
       "      <td>chevrolet</td>\n",
       "      <td>good</td>\n",
       "      <td>gas</td>\n",
       "      <td>19160.0</td>\n",
       "      <td>clean</td>\n",
       "      <td>other</td>\n",
       "      <td>4wd</td>\n",
       "      <td>pickup</td>\n",
       "      <td>red</td>\n",
       "      <td>al</td>\n",
       "      <td>silverado 1500</td>\n",
       "      <td>colorful</td>\n",
       "      <td>work</td>\n",
       "      <td>good</td>\n",
       "      <td>high</td>\n",
       "      <td>2.0</td>\n",
       "      <td>9580.00</td>\n",
       "    </tr>\n",
       "    <tr>\n",
       "      <th>3</th>\n",
       "      <td>auburn</td>\n",
       "      <td>30990</td>\n",
       "      <td>2017</td>\n",
       "      <td>toyota</td>\n",
       "      <td>good</td>\n",
       "      <td>gas</td>\n",
       "      <td>41124.0</td>\n",
       "      <td>clean</td>\n",
       "      <td>other</td>\n",
       "      <td>4wd</td>\n",
       "      <td>pickup</td>\n",
       "      <td>red</td>\n",
       "      <td>al</td>\n",
       "      <td>tundra</td>\n",
       "      <td>colorful</td>\n",
       "      <td>work</td>\n",
       "      <td>good</td>\n",
       "      <td>high</td>\n",
       "      <td>5.0</td>\n",
       "      <td>8224.80</td>\n",
       "    </tr>\n",
       "    <tr>\n",
       "      <th>4</th>\n",
       "      <td>auburn</td>\n",
       "      <td>15000</td>\n",
       "      <td>2013</td>\n",
       "      <td>ford</td>\n",
       "      <td>excellent</td>\n",
       "      <td>gas</td>\n",
       "      <td>128000.0</td>\n",
       "      <td>clean</td>\n",
       "      <td>automatic</td>\n",
       "      <td>rwd</td>\n",
       "      <td>pickup</td>\n",
       "      <td>black</td>\n",
       "      <td>al</td>\n",
       "      <td>f150</td>\n",
       "      <td>neutral</td>\n",
       "      <td>work</td>\n",
       "      <td>excellent</td>\n",
       "      <td>mid</td>\n",
       "      <td>9.0</td>\n",
       "      <td>14222.22</td>\n",
       "    </tr>\n",
       "  </tbody>\n",
       "</table>\n",
       "</div>"
      ],
      "text/plain": [
       "   region  price  year manufacturer  condition fuel  odometer title_status  \\\n",
       "0  auburn  33590  2014          gmc       good  gas   57923.0        clean   \n",
       "1  auburn  22590  2010    chevrolet       good  gas   71229.0        clean   \n",
       "2  auburn  39590  2020    chevrolet       good  gas   19160.0        clean   \n",
       "3  auburn  30990  2017       toyota       good  gas   41124.0        clean   \n",
       "4  auburn  15000  2013         ford  excellent  gas  128000.0        clean   \n",
       "\n",
       "  transmission drive    type paint_color state           model grouped_color  \\\n",
       "0        other   4wd  pickup       white    al     sierra 1500       neutral   \n",
       "1        other   4wd  pickup        blue    al  silverado 1500      colorful   \n",
       "2        other   4wd  pickup         red    al  silverado 1500      colorful   \n",
       "3        other   4wd  pickup         red    al          tundra      colorful   \n",
       "4    automatic   rwd  pickup       black    al            f150       neutral   \n",
       "\n",
       "  type_grouped condition_grouped cylinders_cat  car_age  miles_age  \n",
       "0         work              good          high      8.0    7240.38  \n",
       "1         work              good          high     12.0    5935.75  \n",
       "2         work              good          high      2.0    9580.00  \n",
       "3         work              good          high      5.0    8224.80  \n",
       "4         work         excellent           mid      9.0   14222.22  "
      ]
     },
     "execution_count": 70,
     "metadata": {},
     "output_type": "execute_result"
    }
   ],
   "source": [
    "df.head()"
   ]
  },
  {
   "cell_type": "code",
   "execution_count": 73,
   "metadata": {},
   "outputs": [
    {
     "data": {
      "text/plain": [
       "<Axes: xlabel='miles_age'>"
      ]
     },
     "execution_count": 73,
     "metadata": {},
     "output_type": "execute_result"
    },
    {
     "data": {
      "image/png": "[encoded data removed]",
      "text/plain": [
       "<Figure size 640x480 with 1 Axes>"
      ]
     },
     "metadata": {},
     "output_type": "display_data"
    }
   ],
   "source": [
    "sns.boxplot(x=df['miles_age'])"
   ]
  },
  {
   "cell_type": "code",
   "execution_count": 75,
   "metadata": {},
   "outputs": [],
   "source": [
    "#Delete outliers Miles age\n",
    "df = df[df[\"miles_age\"] < 78000]"
   ]
  },
  {
   "cell_type": "code",
   "execution_count": 82,
   "metadata": {},
   "outputs": [
    {
     "name": "stdout",
     "output_type": "stream",
     "text": [
      "Value Count Segements, Low: 153049, Mid: 88644, High: 58166\n"
     ]
    }
   ],
   "source": [
    "#Create Segments\n",
    "high = df[df['price'] > 30000].shape[0]\n",
    "mid = df[(df['price'] > 16000) & (df['price'] <= 30000)].shape[0]\n",
    "low = df[df['price'] <= 16000].shape[0]\n",
    "\n",
    "print(f\"Value Count Segements, Low: {low}, Mid: {mid}, High: {high}\")\n",
    "df=df.copy()\n",
    "\n",
    "#Create Segments based on Price and Distributions\n",
    "def assign_price_segment(row):\n",
    "    if row['price'] <= 16000:\n",
    "        return 'low'\n",
    "    elif row['price'] <= 30000:\n",
    "        return 'mid'\n",
    "    else:\n",
    "        return 'high'\n",
    "\n",
    "df['price_segment'] = df.apply(assign_price_segment, axis=1)"
   ]
  },
  {
   "cell_type": "code",
   "execution_count": 83,
   "metadata": {},
   "outputs": [],
   "source": [
    "#Delete Duplicate values\n",
    "df = df.drop_duplicates(keep='first').copy()"
   ]
  },
  {
   "cell_type": "code",
   "execution_count": 85,
   "metadata": {},
   "outputs": [
    {
     "name": "stdout",
     "output_type": "stream",
     "text": [
      "Duplicates: 0\n"
     ]
    }
   ],
   "source": [
    "#Check Duplicates\n",
    "dup = df.duplicated(keep=False).sum()\n",
    "print(f\"Duplicates: {dup}\")"
   ]
  },
  {
   "cell_type": "code",
   "execution_count": 86,
   "metadata": {},
   "outputs": [
    {
     "data": {
      "text/plain": [
       "price_segment\n",
       "low     131640\n",
       "mid      78267\n",
       "high     51933\n",
       "Name: count, dtype: int64"
      ]
     },
     "execution_count": 86,
     "metadata": {},
     "output_type": "execute_result"
    }
   ],
   "source": [
    "#Check Segment Amounts\n",
    "df['price_segment'].value_counts()\n",
    "#Low: 50.27%\n",
    "#Mid: 29.89%\n",
    "#High: 19.84%"
   ]
  },
  {
   "cell_type": "code",
   "execution_count": 88,
   "metadata": {},
   "outputs": [],
   "source": [
    "#Save Document\n",
    "df.to_csv(\"01_Used_Cars_Cleaned.csv\", index=False)"
   ]
  },
  {
   "cell_type": "code",
   "execution_count": null,
   "metadata": {},
   "outputs": [],
   "source": []
  }
 ],
 "metadata": {
  "kernelspec": {
   "display_name": "Python 3",
   "language": "python",
   "name": "python3"
  },
  "language_info": {
   "codemirror_mode": {
    "name": "ipython",
    "version": 3
   },
   "file_extension": ".py",
   "mimetype": "text/x-python",
   "name": "python",
   "nbconvert_exporter": "python",
   "pygments_lexer": "ipython3",
   "version": "3.9.6"
  }
 },
 "nbformat": 4,
 "nbformat_minor": 2
}
